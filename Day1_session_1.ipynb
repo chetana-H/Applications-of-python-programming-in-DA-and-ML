{
  "nbformat": 4,
  "nbformat_minor": 0,
  "metadata": {
    "colab": {
      "name": "Day1 session 1",
      "provenance": [],
      "collapsed_sections": [],
      "authorship_tag": "ABX9TyOOxJLCS0NG2RCE+w+d0gLS",
      "include_colab_link": true
    },
    "kernelspec": {
      "name": "python3",
      "display_name": "Python 3"
    }
  },
  "cells": [
    {
      "cell_type": "markdown",
      "metadata": {
        "id": "view-in-github",
        "colab_type": "text"
      },
      "source": [
        "<a href=\"https://colab.research.google.com/github/chetana-H/workshop/blob/master/Day1_session_1.ipynb\" target=\"_parent\"><img src=\"https://colab.research.google.com/assets/colab-badge.svg\" alt=\"Open In Colab\"/></a>"
      ]
    },
    {
      "cell_type": "markdown",
      "metadata": {
        "id": "8AssVt2IqBpX",
        "colab_type": "text"
      },
      "source": [
        "\n",
        "1.Find the compound interest for the given p,n,r (formula : p(1+n*r/100)n )\n",
        "\n"
      ]
    },
    {
      "cell_type": "code",
      "metadata": {
        "id": "FTqUfXDkiG9j",
        "colab_type": "code",
        "colab": {
          "base_uri": "https://localhost:8080/",
          "height": 87
        },
        "outputId": "e0f771dc-fa71-4a02-8ace-39024b3b9ad9"
      },
      "source": [
        "def compound_interest(principle, rate, time):\n",
        "    CI = principle * (pow((1 + rate / 100), time)) \n",
        "    print(\"Compound interest is\", CI)\n",
        "p=int(input(\"enter p value: \")) \n",
        "n=int(input(\"enter n value: \"))\n",
        "r=float(input(\"enter r value: \")) \n",
        "compound_interest(p, r, n)\n"
      ],
      "execution_count": 1,
      "outputs": [
        {
          "output_type": "stream",
          "text": [
            "enter p value: 12\n",
            "enter n value: 10\n",
            "enter r value: 23\n",
            "Compound interest is 95.11135315262268\n"
          ],
          "name": "stdout"
        }
      ]
    },
    {
      "cell_type": "markdown",
      "metadata": {
        "id": "aE9LFy1TrJ_S",
        "colab_type": "text"
      },
      "source": [
        "2.Convert centegrade to farenheit ( f= 9/5*c+32)"
      ]
    },
    {
      "cell_type": "code",
      "metadata": {
        "id": "hoHvWpsDid7r",
        "colab_type": "code",
        "colab": {
          "base_uri": "https://localhost:8080/",
          "height": 52
        },
        "outputId": "bfe57e51-a50c-45dd-f8b5-6a5e4324c4b2"
      },
      "source": [
        "celsius = float(input(\"Enter temperature in celsius: \")) \n",
        "fahrenheit = (celsius * 9/5) + 32\n",
        "print('%.2f Celsius is: %0.2f Fahrenheit' %(celsius, fahrenheit))\n"
      ],
      "execution_count": 2,
      "outputs": [
        {
          "output_type": "stream",
          "text": [
            "Enter temperature in celsius: 23\n",
            "23.00 Celsius is: 73.40 Fahrenheit\n"
          ],
          "name": "stdout"
        }
      ]
    },
    {
      "cell_type": "markdown",
      "metadata": {
        "id": "GzaSqXxhrPAB",
        "colab_type": "text"
      },
      "source": [
        "3.Find the greater of two nos"
      ]
    },
    {
      "cell_type": "code",
      "metadata": {
        "id": "OoQQmJpPiqRM",
        "colab_type": "code",
        "colab": {
          "base_uri": "https://localhost:8080/",
          "height": 87
        },
        "outputId": "bd7750c7-60ca-4e6b-956f-ba61ccbede27"
      },
      "source": [
        "a=int(input(\"enter a num : \")) \n",
        "b=int(input(\"enter a num : \")) \n",
        "print(\"greater num is : \")\n",
        "if(a>b): \n",
        "    print(a)\n",
        "else:\n",
        "    print(b)\n",
        "\n"
      ],
      "execution_count": 3,
      "outputs": [
        {
          "output_type": "stream",
          "text": [
            "enter a num : 234\n",
            "enter a num : 45\n",
            "greater num is : \n",
            "234\n"
          ],
          "name": "stdout"
        }
      ]
    },
    {
      "cell_type": "markdown",
      "metadata": {
        "id": "ylHGKOK1rTAO",
        "colab_type": "text"
      },
      "source": [
        "4.Write a program for finding surface areas of cylinder and cone (2PIrrh, 1/3PIrrh) using function."
      ]
    },
    {
      "cell_type": "code",
      "metadata": {
        "id": "PhCu6enYi-2Z",
        "colab_type": "code",
        "colab": {
          "base_uri": "https://localhost:8080/",
          "height": 87
        },
        "outputId": "c9f5cd98-fb66-4c91-9a2e-fcd55ec5d26b"
      },
      "source": [
        "import math\n",
        "def Cylinder(r,h):\n",
        "    return 2*math.pi*r*r*h \n",
        "def cone(r,h):\n",
        "    return (1/3)*math.pi*r*r*h\n",
        "r=int(input(\"enter r value : \")) \n",
        "h=int(input(\"enter h value\"))\n",
        "print(\"surface area of cylinder is : %.2f\"%Cylinder(r,h))\n",
        "print(\"surface area of cone is : %.2f \"%cone(r,h))\n"
      ],
      "execution_count": 4,
      "outputs": [
        {
          "output_type": "stream",
          "text": [
            "enter r value : 23\n",
            "enter h value56\n",
            "surface area of cylinder is : 186133.08\n",
            "surface area of cone is : 31022.18 \n"
          ],
          "name": "stdout"
        }
      ]
    },
    {
      "cell_type": "markdown",
      "metadata": {
        "id": "Sz5XlZZ9rduC",
        "colab_type": "text"
      },
      "source": [
        "5.Find the greatest of four nos ( using ‘and’ operator) using function."
      ]
    },
    {
      "cell_type": "code",
      "metadata": {
        "id": "c2GhdHrKjWjr",
        "colab_type": "code",
        "colab": {
          "base_uri": "https://localhost:8080/",
          "height": 121
        },
        "outputId": "1fe176ba-17b4-45ea-e86d-389b8a78adb3"
      },
      "source": [
        "a=int(input(\"enter 1st num: \"))\n",
        "b=int(input(\"enter 2nd num: \")) \n",
        "c=int(input(\"enter 3rd num: \")) \n",
        "d=int(input(\"enter 4th num: \")) \n",
        "print(\"greater num is : \")\n",
        "if(a>b and a>c and a>d): \n",
        "    print(a)\n",
        "elif(b>c and b>d): \n",
        "    print(b)\n",
        "elif(c>d): \n",
        "    print(c)\n",
        "else:\n",
        "    print(d)\n"
      ],
      "execution_count": 5,
      "outputs": [
        {
          "output_type": "stream",
          "text": [
            "enter 1st num: 23\n",
            "enter 2nd num: 45\n",
            "enter 3rd num: 76\n",
            "enter 4th num: 34\n",
            "greater num is : \n",
            "76\n"
          ],
          "name": "stdout"
        }
      ]
    },
    {
      "cell_type": "markdown",
      "metadata": {
        "id": "Wizs80CjruB2",
        "colab_type": "text"
      },
      "source": [
        "6.Write a menu program to perform the operations ( ODDorEven, Factorial, ODDNoUptoN, PrimeUptoN ) using functions for two nos with menu choice"
      ]
    },
    {
      "cell_type": "code",
      "metadata": {
        "id": "QHJsDF3PjxH6",
        "colab_type": "code",
        "colab": {
          "base_uri": "https://localhost:8080/",
          "height": 1000
        },
        "outputId": "11727b19-3d8d-4963-a0e4-e18dadf14ffe"
      },
      "source": [
        "loop = 1\n",
        "choice = 0\n",
        "def oddoreven(a):\n",
        "    if(a%2==0):\n",
        "        print(\"even\") \n",
        "    else:\n",
        "        print(\"odd\") \n",
        "def fact(num):\n",
        "    factorial=1 \n",
        "    if num < 0:\n",
        "        print(\"Sorry, factorial does not exist for negative numbers\")\n",
        "    elif num == 0:\n",
        "        print(\"The factorial of 0 is 1\") \n",
        "    else:\n",
        "        for i in range(1,num + 1): \n",
        "            factorial = factorial*i\n",
        "    print(\"The factorial of\",num,\"is\",factorial) \n",
        "def odd(n):\n",
        "    print(\"odd numbers: \"); \n",
        "    for i in range(1,n+1):\n",
        "        if(i%2!=0):\n",
        "            print(i) \n",
        "def prime(l,h):\n",
        "    print(\"prime numbers: \")\n",
        "    for num in range(l,h + 1): \n",
        "        if num > 1:\n",
        "            for i in range(2,num):\n",
        "                if (num % i) == 0:\n",
        "                    break\n",
        "        else:\n",
        "            print(num)\n",
        "\n",
        "while loop == 1:\n",
        "    print (\"Welcome\")\n",
        "    print (\"your options are:\")\n",
        "    print (\"\")\n",
        "    print(\"1) odd or even\") \n",
        "    print(\"2) factorial\")\n",
        "    print(\"3) odd upto n\") \n",
        "    print(\"4) prime upto n\") \n",
        "    print(\"5) Quit \")\n",
        "    print(\"\")\n",
        "    try:\n",
        "        choice = int(input(\"Choose your option: \")) \n",
        "    except:\n",
        "        print('please enter a valid number for option') \n",
        "        print(\"\")\n",
        "    print(\"\")\n",
        "    if choice == 1:\n",
        "        x = int(input(\" Enter\tno: \")) \n",
        "        oddoreven(x)\n",
        "    elif choice == 2:\n",
        "        x = int(input(\"Enter\tno: \")) \n",
        "        fact(x)\n",
        "    elif choice == 3:\n",
        "        x = int(input(\"Enter range: \")) \n",
        "        odd(x)\n",
        "    elif choice == 4:\n",
        "        x = int(input(\"Enter lower range: \")) \n",
        "        y = int(input(\"Enter upper range: \")) \n",
        "        prime(x,y)\n",
        "    elif choice == 5: \n",
        "        loop = 0\n",
        "    else:\n",
        "        print(\"please choice a valid option from 1 to 5\") \n",
        "        choice=0\n",
        "print (\"Thank-you \")\n",
        "\n",
        "\n",
        "\n"
      ],
      "execution_count": 17,
      "outputs": [
        {
          "output_type": "stream",
          "text": [
            "Welcome\n",
            "your options are:\n",
            "\n",
            "1) odd or even\n",
            "2) factorial\n",
            "3) odd upto n\n",
            "4) prime upto n\n",
            "5) Quit \n",
            "\n",
            "Choose your option: 3\n",
            "\n",
            "Enter range: 6\n",
            "odd numbers: \n",
            "1\n",
            "3\n",
            "5\n",
            "Welcome\n",
            "your options are:\n",
            "\n",
            "1) odd or even\n",
            "2) factorial\n",
            "3) odd upto n\n",
            "4) prime upto n\n",
            "5) Quit \n",
            "\n",
            "Choose your option: 4\n",
            "\n",
            "Enter lower range: 2\n",
            "Enter upper range: 3\n",
            "prime numbers: \n",
            "Welcome\n",
            "your options are:\n",
            "\n",
            "1) odd or even\n",
            "2) factorial\n",
            "3) odd upto n\n",
            "4) prime upto n\n",
            "5) Quit \n",
            "\n",
            "Choose your option: 3\n",
            "\n",
            "Enter range: 2\n",
            "odd numbers: \n",
            "1\n",
            "Welcome\n",
            "your options are:\n",
            "\n",
            "1) odd or even\n",
            "2) factorial\n",
            "3) odd upto n\n",
            "4) prime upto n\n",
            "5) Quit \n",
            "\n",
            "Choose your option: 3\n",
            "\n",
            "Enter range: 5\n",
            "odd numbers: \n",
            "1\n",
            "3\n",
            "5\n",
            "Welcome\n",
            "your options are:\n",
            "\n",
            "1) odd or even\n",
            "2) factorial\n",
            "3) odd upto n\n",
            "4) prime upto n\n",
            "5) Quit \n",
            "\n",
            "Choose your option: 5\n",
            "\n",
            "Thank-you \n"
          ],
          "name": "stdout"
        }
      ]
    },
    {
      "cell_type": "markdown",
      "metadata": {
        "id": "q_iDn2Ghp_Ov",
        "colab_type": "text"
      },
      "source": [
        ""
      ]
    }
  ]
}