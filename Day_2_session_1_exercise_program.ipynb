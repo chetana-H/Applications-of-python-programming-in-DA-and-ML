{
  "nbformat": 4,
  "nbformat_minor": 0,
  "metadata": {
    "colab": {
      "name": "Day 2 session 1 exercise program",
      "provenance": [],
      "collapsed_sections": [],
      "authorship_tag": "ABX9TyMOkkPvTDyihFzKRHtNefUh",
      "include_colab_link": true
    },
    "kernelspec": {
      "name": "python3",
      "display_name": "Python 3"
    }
  },
  "cells": [
    {
      "cell_type": "markdown",
      "metadata": {
        "id": "view-in-github",
        "colab_type": "text"
      },
      "source": [
        "<a href=\"https://colab.research.google.com/github/chetana-H/Applications-of-python-programming-in-DA-and-ML/blob/master/Day_2_session_1_exercise_program.ipynb\" target=\"_parent\"><img src=\"https://colab.research.google.com/assets/colab-badge.svg\" alt=\"Open In Colab\"/></a>"
      ]
    },
    {
      "cell_type": "markdown",
      "metadata": {
        "id": "N0_4JWXIR0po",
        "colab_type": "text"
      },
      "source": [
        "1.print multiples of 3 upto 200 using a list"
      ]
    },
    {
      "cell_type": "code",
      "metadata": {
        "id": "J_vgEy2xRjSe",
        "colab_type": "code",
        "colab": {
          "base_uri": "https://localhost:8080/",
          "height": 55
        },
        "outputId": "16a26f61-a210-426b-906c-5d41ff9b777f"
      },
      "source": [
        "a=[]\n",
        "for i in range(0,200):\n",
        "  if(i%3==0):\n",
        "    a.append(i)\n",
        "print(a)"
      ],
      "execution_count": 1,
      "outputs": [
        {
          "output_type": "stream",
          "text": [
            "[0, 3, 6, 9, 12, 15, 18, 21, 24, 27, 30, 33, 36, 39, 42, 45, 48, 51, 54, 57, 60, 63, 66, 69, 72, 75, 78, 81, 84, 87, 90, 93, 96, 99, 102, 105, 108, 111, 114, 117, 120, 123, 126, 129, 132, 135, 138, 141, 144, 147, 150, 153, 156, 159, 162, 165, 168, 171, 174, 177, 180, 183, 186, 189, 192, 195, 198]\n"
          ],
          "name": "stdout"
        }
      ]
    },
    {
      "cell_type": "markdown",
      "metadata": {
        "id": "Pl4D0UlNR-oB",
        "colab_type": "text"
      },
      "source": [
        "2.print the nos only divisable by 5 and 7 between 1000 and 2000 using a list( both inclusive)\n",
        "\n"
      ]
    },
    {
      "cell_type": "code",
      "metadata": {
        "id": "EchjyrMxR45L",
        "colab_type": "code",
        "colab": {
          "base_uri": "https://localhost:8080/",
          "height": 55
        },
        "outputId": "34ecb00c-a31d-42af-b2dc-c6835e6b07d1"
      },
      "source": [
        "nl=[]\n",
        "for x in range(1000, 2000):\n",
        "    if (x%7==0) and (x%5==0):\n",
        "        nl.append(x)\n",
        "print (nl)"
      ],
      "execution_count": 2,
      "outputs": [
        {
          "output_type": "stream",
          "text": [
            "[1015, 1050, 1085, 1120, 1155, 1190, 1225, 1260, 1295, 1330, 1365, 1400, 1435, 1470, 1505, 1540, 1575, 1610, 1645, 1680, 1715, 1750, 1785, 1820, 1855, 1890, 1925, 1960, 1995]\n"
          ],
          "name": "stdout"
        }
      ]
    },
    {
      "cell_type": "markdown",
      "metadata": {
        "id": "5NfC3FFVSOx1",
        "colab_type": "text"
      },
      "source": [
        "3.Add the n number of names in a list and print them alphabetically and reverse alphabetically."
      ]
    },
    {
      "cell_type": "code",
      "metadata": {
        "id": "0p0TEXKrSEVo",
        "colab_type": "code",
        "colab": {
          "base_uri": "https://localhost:8080/",
          "height": 156
        },
        "outputId": "2437663a-fb0f-4a9f-f137-895220029fef"
      },
      "source": [
        "l = []\n",
        "b=[]\n",
        "n =int(input(\"Enter the size\"))\n",
        "for i in range(n):\n",
        "  a = str(input())\n",
        "  l.append(a)\n",
        "b = sorted(l)\n",
        "print(sorted(l))\n",
        "print(b[::-1])"
      ],
      "execution_count": 3,
      "outputs": [
        {
          "output_type": "stream",
          "text": [
            "Enter the size5\n",
            "6\n",
            "7\n",
            "8\n",
            "9\n",
            "10\n",
            "['10', '6', '7', '8', '9']\n",
            "['9', '8', '7', '6', '10']\n"
          ],
          "name": "stdout"
        }
      ]
    },
    {
      "cell_type": "markdown",
      "metadata": {
        "id": "B6gAaBglScp8",
        "colab_type": "text"
      },
      "source": [
        "4..Print perfect squares and divisible by 5 between 500 and 1000( (both inclusive) using list"
      ]
    },
    {
      "cell_type": "code",
      "metadata": {
        "id": "lFodMGs9STJt",
        "colab_type": "code",
        "colab": {
          "base_uri": "https://localhost:8080/",
          "height": 35
        },
        "outputId": "62c30849-8eea-4114-c730-42be8eed60b8"
      },
      "source": [
        "a=[]\n",
        "def divsqr(l, r): \n",
        "    for i in range(l, r + 1):  \n",
        "        if (i**(.5) == int(i**(.5)) and (i%5)==0): \n",
        "          a.append(i)\n",
        "    print(a) \n",
        "  \n",
        "\n",
        "l = 500\n",
        "r = 1000\n",
        "  \n",
        "divsqr(l, r)"
      ],
      "execution_count": 4,
      "outputs": [
        {
          "output_type": "stream",
          "text": [
            "[625, 900]\n"
          ],
          "name": "stdout"
        }
      ]
    },
    {
      "cell_type": "markdown",
      "metadata": {
        "id": "nwnxAtzJSk77",
        "colab_type": "text"
      },
      "source": [
        "## **tuples** **exercise**"
      ]
    },
    {
      "cell_type": "markdown",
      "metadata": {
        "id": "sPbpZWjITMdE",
        "colab_type": "text"
      },
      "source": [
        "1.Get a string and store word by word as elements in a tuple and find the largest word in the tuple and print it"
      ]
    },
    {
      "cell_type": "code",
      "metadata": {
        "id": "bNlIfRrySz3d",
        "colab_type": "code",
        "colab": {
          "base_uri": "https://localhost:8080/",
          "height": 139
        },
        "outputId": "9617d359-5df3-46f5-93f4-b0f7219257d3"
      },
      "source": [
        "a=[]\n",
        "n= int(input(\"Enter the number of elements in list:\"))\n",
        "for x in range(0,n):\n",
        "    element=input(\"Enter element\" + str(x+1) + \":\")\n",
        "    a.append(element)\n",
        "max1=len(a[0])\n",
        "temp=a[0]\n",
        "for i in a:\n",
        "    if(len(i)>max1):\n",
        "       max1=len(i)\n",
        "       temp=i\n",
        "print(\"The word with the longest length is:\")\n",
        "print(temp)"
      ],
      "execution_count": 5,
      "outputs": [
        {
          "output_type": "stream",
          "text": [
            "Enter the number of elements in list:4\n",
            "Enter element1:chetu\n",
            "Enter element2:chandu\n",
            "Enter element3:vidu\n",
            "Enter element4:viru\n",
            "The word with the longest length is:\n",
            "chandu\n"
          ],
          "name": "stdout"
        }
      ]
    },
    {
      "cell_type": "markdown",
      "metadata": {
        "id": "d4jv871vTdep",
        "colab_type": "text"
      },
      "source": [
        "2.Get a string and store word by word as elements in a tuple and find the largest word in the tuple and print it"
      ]
    },
    {
      "cell_type": "code",
      "metadata": {
        "id": "8zFP8zUxTONP",
        "colab_type": "code",
        "colab": {
          "base_uri": "https://localhost:8080/",
          "height": 191
        },
        "outputId": "53ad2376-0df6-4c3e-a14c-d606c4ffe77c"
      },
      "source": [
        "l = []\n",
        "l1 = []\n",
        "n =int(input(\"Enter the number of students\"))\n",
        "for i in range(n):\n",
        "  l.append(int(input('Enter roll number')))\n",
        "  l1.append(int(input('Enter marks')))\n",
        "a =(l,l1[::-1])\n",
        "print(a)\n"
      ],
      "execution_count": 6,
      "outputs": [
        {
          "output_type": "stream",
          "text": [
            "Enter the number of students4\n",
            "Enter roll number28\n",
            "Enter marks29\n",
            "Enter roll number21\n",
            "Enter marks30\n",
            "Enter roll number22\n",
            "Enter marks18\n",
            "Enter roll number23\n",
            "Enter marks12\n",
            "([28, 21, 22, 23], [12, 18, 30, 29])\n"
          ],
          "name": "stdout"
        }
      ]
    },
    {
      "cell_type": "markdown",
      "metadata": {
        "id": "NH9zcDVWT4q8",
        "colab_type": "text"
      },
      "source": [
        "3..Get name and salary (name, salary) as list of tuples for n number of employees through keyboard and print them in name alphabetical order with salary"
      ]
    },
    {
      "cell_type": "code",
      "metadata": {
        "id": "2RgyQQf8TmWR",
        "colab_type": "code",
        "colab": {
          "base_uri": "https://localhost:8080/",
          "height": 156
        },
        "outputId": "02a41ea9-090b-40e8-b628-bf457728612a"
      },
      "source": [
        "l = []\n",
        "l1 = []\n",
        "n =int(input(\"Enter the number of emp\"))\n",
        "for i in range(n):\n",
        "  l.append(str(input('Enter name')))\n",
        "  l1.append(int(input('Enter salary')))\n",
        "  a =(sorted(l),l1)\n",
        "print(a)"
      ],
      "execution_count": 7,
      "outputs": [
        {
          "output_type": "stream",
          "text": [
            "Enter the number of emp3\n",
            "Enter namechetu\n",
            "Enter salary100000\n",
            "Enter namechandu\n",
            "Enter salary20000\n",
            "Enter nameviru\n",
            "Enter salary200000\n",
            "(['chandu', 'chetu', 'viru'], [100000, 20000, 200000])\n"
          ],
          "name": "stdout"
        }
      ]
    }
  ]
}