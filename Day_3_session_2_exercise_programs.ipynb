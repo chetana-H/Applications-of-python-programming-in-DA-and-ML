{
  "nbformat": 4,
  "nbformat_minor": 0,
  "metadata": {
    "colab": {
      "name": "Day 3 session 2 exercise programs",
      "provenance": [],
      "collapsed_sections": [],
      "authorship_tag": "ABX9TyM8Lvc06gIGtE5J2y8OXitV",
      "include_colab_link": true
    },
    "kernelspec": {
      "name": "python3",
      "display_name": "Python 3"
    }
  },
  "cells": [
    {
      "cell_type": "markdown",
      "metadata": {
        "id": "view-in-github",
        "colab_type": "text"
      },
      "source": [
        "<a href=\"https://colab.research.google.com/github/chetana-H/Applications-of-python-programming-in-DA-and-ML/blob/master/Day_3_session_2_exercise_programs.ipynb\" target=\"_parent\"><img src=\"https://colab.research.google.com/assets/colab-badge.svg\" alt=\"Open In Colab\"/></a>"
      ]
    },
    {
      "cell_type": "markdown",
      "metadata": {
        "id": "CnFETaGp5AkR",
        "colab_type": "text"
      },
      "source": [
        "# **Write a Pandas program to create and display a one-dimensional array using series containing event numbers upto 10000**\n",
        "tip : use List Comprehension ds = pd.Series([0,2, 4, 6, 8..... 10000])"
      ]
    },
    {
      "cell_type": "code",
      "metadata": {
        "id": "kaD_kFV85DkI",
        "colab_type": "code",
        "colab": {
          "base_uri": "https://localhost:8080/",
          "height": 225
        },
        "outputId": "5029c454-3b0c-4606-ebe2-230e0242820d"
      },
      "source": [
        "import pandas as pd\n",
        "import numpy as np\n",
        "l1=([i for i in range(1,1000) if i%2==0])\n",
        "s1=pd.Series(l1)\n",
        "print(s1)"
      ],
      "execution_count": 1,
      "outputs": [
        {
          "output_type": "stream",
          "text": [
            "0        2\n",
            "1        4\n",
            "2        6\n",
            "3        8\n",
            "4       10\n",
            "      ... \n",
            "494    990\n",
            "495    992\n",
            "496    994\n",
            "497    996\n",
            "498    998\n",
            "Length: 499, dtype: int64\n"
          ],
          "name": "stdout"
        }
      ]
    },
    {
      "cell_type": "markdown",
      "metadata": {
        "id": "gVY5hkgr5MCy",
        "colab_type": "text"
      },
      "source": [
        "# **Write a Pandas program to convert a Panda module Series of the numbers which are between 1000 and 2000 (both inclusive) and divisable by 5 to Python list and after convertion print its type**"
      ]
    },
    {
      "cell_type": "code",
      "metadata": {
        "id": "Kbwpe85B5TlC",
        "colab_type": "code",
        "colab": {
          "base_uri": "https://localhost:8080/",
          "height": 225
        },
        "outputId": "7e7cd790-60e6-4b35-e9fb-b4cf2efbefe5"
      },
      "source": [
        "import pandas as pd\n",
        "import numpy as np\n",
        "s1=pd.Series([x for x in range(1000,2000) if x%5==0])\n",
        "print(s1)\n"
      ],
      "execution_count": 2,
      "outputs": [
        {
          "output_type": "stream",
          "text": [
            "0      1000\n",
            "1      1005\n",
            "2      1010\n",
            "3      1015\n",
            "4      1020\n",
            "       ... \n",
            "195    1975\n",
            "196    1980\n",
            "197    1985\n",
            "198    1990\n",
            "199    1995\n",
            "Length: 200, dtype: int64\n"
          ],
          "name": "stdout"
        }
      ]
    },
    {
      "cell_type": "markdown",
      "metadata": {
        "id": "Eqg62oNi5Z3w",
        "colab_type": "text"
      },
      "source": [
        "# **Write a Pandas program to add, subtract, multiple and divide two Pandas Series and print their results using the Sample Series: [2, 4, 6, 8, ...100], [1, 3, 5, 7, 9...99]**\n"
      ]
    },
    {
      "cell_type": "code",
      "metadata": {
        "id": "Ms_9TkgN48mQ",
        "colab_type": "code",
        "colab": {
          "base_uri": "https://localhost:8080/",
          "height": 1000
        },
        "outputId": "8ed3b1f2-e9b6-4fb2-9442-5557c76fa434"
      },
      "source": [
        "import pandas as pd\n",
        "import numpy as np\n",
        "l1=([i for i in range(1,100) if i%2==0])\n",
        "s1=pd.Series(l1)\n",
        "l2=([i for i in range(1,100) if i%2!=0])\n",
        "s2=pd.Series(l2)\n",
        "print(\"add s= \")\n",
        "print(s1+s2)\n",
        "print(\"sub s= \",s1+s2)\n",
        "print(\"mul s=\",s1*s2)\n",
        "print(\"div s=\",s1/s2)\n"
      ],
      "execution_count": 3,
      "outputs": [
        {
          "output_type": "stream",
          "text": [
            "add s= \n",
            "0       3.0\n",
            "1       7.0\n",
            "2      11.0\n",
            "3      15.0\n",
            "4      19.0\n",
            "5      23.0\n",
            "6      27.0\n",
            "7      31.0\n",
            "8      35.0\n",
            "9      39.0\n",
            "10     43.0\n",
            "11     47.0\n",
            "12     51.0\n",
            "13     55.0\n",
            "14     59.0\n",
            "15     63.0\n",
            "16     67.0\n",
            "17     71.0\n",
            "18     75.0\n",
            "19     79.0\n",
            "20     83.0\n",
            "21     87.0\n",
            "22     91.0\n",
            "23     95.0\n",
            "24     99.0\n",
            "25    103.0\n",
            "26    107.0\n",
            "27    111.0\n",
            "28    115.0\n",
            "29    119.0\n",
            "30    123.0\n",
            "31    127.0\n",
            "32    131.0\n",
            "33    135.0\n",
            "34    139.0\n",
            "35    143.0\n",
            "36    147.0\n",
            "37    151.0\n",
            "38    155.0\n",
            "39    159.0\n",
            "40    163.0\n",
            "41    167.0\n",
            "42    171.0\n",
            "43    175.0\n",
            "44    179.0\n",
            "45    183.0\n",
            "46    187.0\n",
            "47    191.0\n",
            "48    195.0\n",
            "49      NaN\n",
            "dtype: float64\n",
            "sub s=  0       3.0\n",
            "1       7.0\n",
            "2      11.0\n",
            "3      15.0\n",
            "4      19.0\n",
            "5      23.0\n",
            "6      27.0\n",
            "7      31.0\n",
            "8      35.0\n",
            "9      39.0\n",
            "10     43.0\n",
            "11     47.0\n",
            "12     51.0\n",
            "13     55.0\n",
            "14     59.0\n",
            "15     63.0\n",
            "16     67.0\n",
            "17     71.0\n",
            "18     75.0\n",
            "19     79.0\n",
            "20     83.0\n",
            "21     87.0\n",
            "22     91.0\n",
            "23     95.0\n",
            "24     99.0\n",
            "25    103.0\n",
            "26    107.0\n",
            "27    111.0\n",
            "28    115.0\n",
            "29    119.0\n",
            "30    123.0\n",
            "31    127.0\n",
            "32    131.0\n",
            "33    135.0\n",
            "34    139.0\n",
            "35    143.0\n",
            "36    147.0\n",
            "37    151.0\n",
            "38    155.0\n",
            "39    159.0\n",
            "40    163.0\n",
            "41    167.0\n",
            "42    171.0\n",
            "43    175.0\n",
            "44    179.0\n",
            "45    183.0\n",
            "46    187.0\n",
            "47    191.0\n",
            "48    195.0\n",
            "49      NaN\n",
            "dtype: float64\n",
            "mul s= 0        2.0\n",
            "1       12.0\n",
            "2       30.0\n",
            "3       56.0\n",
            "4       90.0\n",
            "5      132.0\n",
            "6      182.0\n",
            "7      240.0\n",
            "8      306.0\n",
            "9      380.0\n",
            "10     462.0\n",
            "11     552.0\n",
            "12     650.0\n",
            "13     756.0\n",
            "14     870.0\n",
            "15     992.0\n",
            "16    1122.0\n",
            "17    1260.0\n",
            "18    1406.0\n",
            "19    1560.0\n",
            "20    1722.0\n",
            "21    1892.0\n",
            "22    2070.0\n",
            "23    2256.0\n",
            "24    2450.0\n",
            "25    2652.0\n",
            "26    2862.0\n",
            "27    3080.0\n",
            "28    3306.0\n",
            "29    3540.0\n",
            "30    3782.0\n",
            "31    4032.0\n",
            "32    4290.0\n",
            "33    4556.0\n",
            "34    4830.0\n",
            "35    5112.0\n",
            "36    5402.0\n",
            "37    5700.0\n",
            "38    6006.0\n",
            "39    6320.0\n",
            "40    6642.0\n",
            "41    6972.0\n",
            "42    7310.0\n",
            "43    7656.0\n",
            "44    8010.0\n",
            "45    8372.0\n",
            "46    8742.0\n",
            "47    9120.0\n",
            "48    9506.0\n",
            "49       NaN\n",
            "dtype: float64\n",
            "div s= 0     2.000000\n",
            "1     1.333333\n",
            "2     1.200000\n",
            "3     1.142857\n",
            "4     1.111111\n",
            "5     1.090909\n",
            "6     1.076923\n",
            "7     1.066667\n",
            "8     1.058824\n",
            "9     1.052632\n",
            "10    1.047619\n",
            "11    1.043478\n",
            "12    1.040000\n",
            "13    1.037037\n",
            "14    1.034483\n",
            "15    1.032258\n",
            "16    1.030303\n",
            "17    1.028571\n",
            "18    1.027027\n",
            "19    1.025641\n",
            "20    1.024390\n",
            "21    1.023256\n",
            "22    1.022222\n",
            "23    1.021277\n",
            "24    1.020408\n",
            "25    1.019608\n",
            "26    1.018868\n",
            "27    1.018182\n",
            "28    1.017544\n",
            "29    1.016949\n",
            "30    1.016393\n",
            "31    1.015873\n",
            "32    1.015385\n",
            "33    1.014925\n",
            "34    1.014493\n",
            "35    1.014085\n",
            "36    1.013699\n",
            "37    1.013333\n",
            "38    1.012987\n",
            "39    1.012658\n",
            "40    1.012346\n",
            "41    1.012048\n",
            "42    1.011765\n",
            "43    1.011494\n",
            "44    1.011236\n",
            "45    1.010989\n",
            "46    1.010753\n",
            "47    1.010526\n",
            "48    1.010309\n",
            "49         NaN\n",
            "dtype: float64\n"
          ],
          "name": "stdout"
        }
      ]
    },
    {
      "cell_type": "markdown",
      "metadata": {
        "id": "owNyGj3R5keK",
        "colab_type": "text"
      },
      "source": [
        "# **Write a Pandas program to compare (Equivalence, greater than, less than, not equal to )the elements of the two Pandas Series.**\n",
        "Sample Series: [All positive numbers divisable by 7 upto 1000], [All positive numbers divisable by 11 upto 1000"
      ]
    },
    {
      "cell_type": "code",
      "metadata": {
        "id": "3_46KwKB5lBD",
        "colab_type": "code",
        "colab": {
          "base_uri": "https://localhost:8080/",
          "height": 1000
        },
        "outputId": "75c249f1-85d9-4a58-942b-2f063ddb651e"
      },
      "source": [
        "import pandas as pd\n",
        "import numpy as np\n",
        "s1=pd.Series([i for i in range(1,1000) if i%7==0])\n",
        "s1=pd.Series([i for i in range(1,1000) if i%11==0])\n",
        "print(\"Compare the elements of the said Series:\")\n",
        "print(\"Equals:\")\n",
        "for i in range (len(s2)):\n",
        "  print(i,\" \",s1[i]==s2[i])\n",
        "print(\"Greater than:\")\n",
        "for i in range(len(s2)):\n",
        "  print(i,\" \",s1[i]>s2[i])\n",
        "print(\"Less than:\")\n",
        "for i in range(len(s2)):\n",
        "  print(i,\" \",s1[i]<s2[i])\n",
        "print(\"not Equal\")\n",
        "for i in range(len(s2)):\n",
        "  print(i,\" \",s1[i]!=s2[i])\n"
      ],
      "execution_count": 4,
      "outputs": [
        {
          "output_type": "stream",
          "text": [
            "Compare the elements of the said Series:\n",
            "Equals:\n",
            "0   False\n",
            "1   False\n",
            "2   False\n",
            "3   False\n",
            "4   False\n",
            "5   False\n",
            "6   False\n",
            "7   False\n",
            "8   False\n",
            "9   False\n",
            "10   False\n",
            "11   False\n",
            "12   False\n",
            "13   False\n",
            "14   False\n",
            "15   False\n",
            "16   False\n",
            "17   False\n",
            "18   False\n",
            "19   False\n",
            "20   False\n",
            "21   False\n",
            "22   False\n",
            "23   False\n",
            "24   False\n",
            "25   False\n",
            "26   False\n",
            "27   False\n",
            "28   False\n",
            "29   False\n",
            "30   False\n",
            "31   False\n",
            "32   False\n",
            "33   False\n",
            "34   False\n",
            "35   False\n",
            "36   False\n",
            "37   False\n",
            "38   False\n",
            "39   False\n",
            "40   False\n",
            "41   False\n",
            "42   False\n",
            "43   False\n",
            "44   False\n",
            "45   False\n",
            "46   False\n",
            "47   False\n",
            "48   False\n",
            "49   False\n",
            "Greater than:\n",
            "0   True\n",
            "1   True\n",
            "2   True\n",
            "3   True\n",
            "4   True\n",
            "5   True\n",
            "6   True\n",
            "7   True\n",
            "8   True\n",
            "9   True\n",
            "10   True\n",
            "11   True\n",
            "12   True\n",
            "13   True\n",
            "14   True\n",
            "15   True\n",
            "16   True\n",
            "17   True\n",
            "18   True\n",
            "19   True\n",
            "20   True\n",
            "21   True\n",
            "22   True\n",
            "23   True\n",
            "24   True\n",
            "25   True\n",
            "26   True\n",
            "27   True\n",
            "28   True\n",
            "29   True\n",
            "30   True\n",
            "31   True\n",
            "32   True\n",
            "33   True\n",
            "34   True\n",
            "35   True\n",
            "36   True\n",
            "37   True\n",
            "38   True\n",
            "39   True\n",
            "40   True\n",
            "41   True\n",
            "42   True\n",
            "43   True\n",
            "44   True\n",
            "45   True\n",
            "46   True\n",
            "47   True\n",
            "48   True\n",
            "49   True\n",
            "Less than:\n",
            "0   False\n",
            "1   False\n",
            "2   False\n",
            "3   False\n",
            "4   False\n",
            "5   False\n",
            "6   False\n",
            "7   False\n",
            "8   False\n",
            "9   False\n",
            "10   False\n",
            "11   False\n",
            "12   False\n",
            "13   False\n",
            "14   False\n",
            "15   False\n",
            "16   False\n",
            "17   False\n",
            "18   False\n",
            "19   False\n",
            "20   False\n",
            "21   False\n",
            "22   False\n",
            "23   False\n",
            "24   False\n",
            "25   False\n",
            "26   False\n",
            "27   False\n",
            "28   False\n",
            "29   False\n",
            "30   False\n",
            "31   False\n",
            "32   False\n",
            "33   False\n",
            "34   False\n",
            "35   False\n",
            "36   False\n",
            "37   False\n",
            "38   False\n",
            "39   False\n",
            "40   False\n",
            "41   False\n",
            "42   False\n",
            "43   False\n",
            "44   False\n",
            "45   False\n",
            "46   False\n",
            "47   False\n",
            "48   False\n",
            "49   False\n",
            "not Equal\n",
            "0   True\n",
            "1   True\n",
            "2   True\n",
            "3   True\n",
            "4   True\n",
            "5   True\n",
            "6   True\n",
            "7   True\n",
            "8   True\n",
            "9   True\n",
            "10   True\n",
            "11   True\n",
            "12   True\n",
            "13   True\n",
            "14   True\n",
            "15   True\n",
            "16   True\n",
            "17   True\n",
            "18   True\n",
            "19   True\n",
            "20   True\n",
            "21   True\n",
            "22   True\n",
            "23   True\n",
            "24   True\n",
            "25   True\n",
            "26   True\n",
            "27   True\n",
            "28   True\n",
            "29   True\n",
            "30   True\n",
            "31   True\n",
            "32   True\n",
            "33   True\n",
            "34   True\n",
            "35   True\n",
            "36   True\n",
            "37   True\n",
            "38   True\n",
            "39   True\n",
            "40   True\n",
            "41   True\n",
            "42   True\n",
            "43   True\n",
            "44   True\n",
            "45   True\n",
            "46   True\n",
            "47   True\n",
            "48   True\n",
            "49   True\n"
          ],
          "name": "stdout"
        }
      ]
    },
    {
      "cell_type": "markdown",
      "metadata": {
        "id": "8bGw_Obo5w0x",
        "colab_type": "text"
      },
      "source": [
        "#**Write a Pandas program to convert a NumPy array to a Pandas series. \n",
        "Sample NumPy array: d1 = [10, 20, 30, 40, 50... 1000 ** \n"
      ]
    },
    {
      "cell_type": "code",
      "metadata": {
        "id": "zwctjHLo5xPl",
        "colab_type": "code",
        "colab": {
          "base_uri": "https://localhost:8080/",
          "height": 364
        },
        "outputId": "3bd154e1-ef3a-4962-ca4f-077300c02580"
      },
      "source": [
        "import numpy as np\n",
        "import pandas as pd\n",
        "np_array = np.array([i for i in range(1,1000) if i%10==0])\n",
        "print(\"NumPy array:\")\n",
        "print(np_array)\n",
        "new_series = pd.Series(np_array)\n",
        "print(\"Converted Pandas series:\")\n",
        "print(new_series)"
      ],
      "execution_count": 5,
      "outputs": [
        {
          "output_type": "stream",
          "text": [
            "NumPy array:\n",
            "[ 10  20  30  40  50  60  70  80  90 100 110 120 130 140 150 160 170 180\n",
            " 190 200 210 220 230 240 250 260 270 280 290 300 310 320 330 340 350 360\n",
            " 370 380 390 400 410 420 430 440 450 460 470 480 490 500 510 520 530 540\n",
            " 550 560 570 580 590 600 610 620 630 640 650 660 670 680 690 700 710 720\n",
            " 730 740 750 760 770 780 790 800 810 820 830 840 850 860 870 880 890 900\n",
            " 910 920 930 940 950 960 970 980 990]\n",
            "Converted Pandas series:\n",
            "0      10\n",
            "1      20\n",
            "2      30\n",
            "3      40\n",
            "4      50\n",
            "     ... \n",
            "94    950\n",
            "95    960\n",
            "96    970\n",
            "97    980\n",
            "98    990\n",
            "Length: 99, dtype: int64\n"
          ],
          "name": "stdout"
        }
      ]
    },
    {
      "cell_type": "markdown",
      "metadata": {
        "id": "RQRitHbO6QIH",
        "colab_type": "text"
      },
      "source": [
        "# **Write a Pandas program to convert a given Series to an array.**\n",
        "Sample series is ['100', '200', ‘300’,’400’,’500’,'python', '300.12', '400',’is’,’great’,’language’]"
      ]
    },
    {
      "cell_type": "code",
      "metadata": {
        "id": "oegG7N1c6bM4",
        "colab_type": "code",
        "colab": {
          "base_uri": "https://localhost:8080/",
          "height": 295
        },
        "outputId": "76907505-d9cd-4752-d1c0-cf948c63c159"
      },
      "source": [
        "import pandas as pd\n",
        "import numpy as np\n",
        "s1 = pd.Series(['100','200','300','400','500','python','300.2','400','is','great','language'])\n",
        "print(\"Original Data Series:\")\n",
        "print(s1)\n",
        "print(\"Series to an array\")\n",
        "a = np.array(s1.values.tolist())\n",
        "print (a)"
      ],
      "execution_count": 6,
      "outputs": [
        {
          "output_type": "stream",
          "text": [
            "Original Data Series:\n",
            "0          100\n",
            "1          200\n",
            "2          300\n",
            "3          400\n",
            "4          500\n",
            "5       python\n",
            "6        300.2\n",
            "7          400\n",
            "8           is\n",
            "9        great\n",
            "10    language\n",
            "dtype: object\n",
            "Series to an array\n",
            "['100' '200' '300' '400' '500' 'python' '300.2' '400' 'is' 'great'\n",
            " 'language']\n"
          ],
          "name": "stdout"
        }
      ]
    },
    {
      "cell_type": "markdown",
      "metadata": {
        "id": "j_jg5CdN6dW4",
        "colab_type": "text"
      },
      "source": [
        "# **Write a Pandas program to sort a given Series.**\n",
        "Sample series is ['100', '200', ‘300’,’400’,’500’,'python', '300.12', '400',’is’,’great’,’language’]\n",
        "\n"
      ]
    },
    {
      "cell_type": "code",
      "metadata": {
        "id": "V1I2Zr1X6dwy",
        "colab_type": "code",
        "colab": {
          "base_uri": "https://localhost:8080/",
          "height": 433
        },
        "outputId": "8f47c823-f757-48ca-91d2-ab0024b72919"
      },
      "source": [
        "import pandas as pd\n",
        "import numpy as np\n",
        "s1 = pd.Series(['100','200','300','400','500','python','300.2','400','is','great','language'])\n",
        "print(s1)\n",
        "s2=s1.sort_values()\n",
        "print(s2)\n"
      ],
      "execution_count": 7,
      "outputs": [
        {
          "output_type": "stream",
          "text": [
            "0          100\n",
            "1          200\n",
            "2          300\n",
            "3          400\n",
            "4          500\n",
            "5       python\n",
            "6        300.2\n",
            "7          400\n",
            "8           is\n",
            "9        great\n",
            "10    language\n",
            "dtype: object\n",
            "0          100\n",
            "1          200\n",
            "2          300\n",
            "6        300.2\n",
            "3          400\n",
            "7          400\n",
            "4          500\n",
            "9        great\n",
            "8           is\n",
            "10    language\n",
            "5       python\n",
            "dtype: object\n"
          ],
          "name": "stdout"
        }
      ]
    },
    {
      "cell_type": "markdown",
      "metadata": {
        "id": "xzy5_z_t6qyX",
        "colab_type": "text"
      },
      "source": [
        "# **Write a Pandas program to create a subsets of a given series based on value and condition.**\n",
        "Sample NumPy array: d1 = [10, 20, 30, 40, 50... 1000] value and condtion : Subset 1 :numbers divisable by 7 Subset 2 : numbers divisable by 5"
      ]
    },
    {
      "cell_type": "code",
      "metadata": {
        "id": "BA7Dyt2C6rNO",
        "colab_type": "code",
        "colab": {
          "base_uri": "https://localhost:8080/",
          "height": 277
        },
        "outputId": "008b8069-869e-46f4-d6cc-6307a01db3c8"
      },
      "source": [
        "import pandas as pd\n",
        "import numpy as np\n",
        "d1=np.array([i for i in range(1,1000) if i%10==0])\n",
        "print(d1)\n",
        "print(\"subset 1\")\n",
        "subset1=d1[d1%7==0]\n",
        "print(subset1)\n",
        "print(\"subset2\")\n",
        "subset2=d1[d1%5==0]\n",
        "print(subset2)"
      ],
      "execution_count": 8,
      "outputs": [
        {
          "output_type": "stream",
          "text": [
            "[ 10  20  30  40  50  60  70  80  90 100 110 120 130 140 150 160 170 180\n",
            " 190 200 210 220 230 240 250 260 270 280 290 300 310 320 330 340 350 360\n",
            " 370 380 390 400 410 420 430 440 450 460 470 480 490 500 510 520 530 540\n",
            " 550 560 570 580 590 600 610 620 630 640 650 660 670 680 690 700 710 720\n",
            " 730 740 750 760 770 780 790 800 810 820 830 840 850 860 870 880 890 900\n",
            " 910 920 930 940 950 960 970 980 990]\n",
            "subset 1\n",
            "[ 70 140 210 280 350 420 490 560 630 700 770 840 910 980]\n",
            "subset2\n",
            "[ 10  20  30  40  50  60  70  80  90 100 110 120 130 140 150 160 170 180\n",
            " 190 200 210 220 230 240 250 260 270 280 290 300 310 320 330 340 350 360\n",
            " 370 380 390 400 410 420 430 440 450 460 470 480 490 500 510 520 530 540\n",
            " 550 560 570 580 590 600 610 620 630 640 650 660 670 680 690 700 710 720\n",
            " 730 740 750 760 770 780 790 800 810 820 830 840 850 860 870 880 890 900\n",
            " 910 920 930 940 950 960 970 980 990]\n"
          ],
          "name": "stdout"
        }
      ]
    },
    {
      "cell_type": "markdown",
      "metadata": {
        "id": "KkQrxc4Y64nk",
        "colab_type": "text"
      },
      "source": [
        "# **Write a Pandas program to create the mean and standard deviation, maximum and minimum of the data of a given Series of the prime numbers upto 1000**\n"
      ]
    },
    {
      "cell_type": "code",
      "metadata": {
        "id": "-7pUx6CZ65Ee",
        "colab_type": "code",
        "colab": {
          "base_uri": "https://localhost:8080/",
          "height": 312
        },
        "outputId": "343ae37f-4e7b-48e4-81dd-3fc6fd4187b5"
      },
      "source": [
        "import pandas as pd\n",
        "l=[]\n",
        "for val in range(0,1001):\n",
        "  if val > 1: \n",
        "        for n in range(2, val//2 + 2): \n",
        "            if (val % n) == 0: \n",
        "                break\n",
        "            else: \n",
        "                if n == val//2 + 1: \n",
        "                    l.append(val)\n",
        "s = pd.Series(data = l)\n",
        "print(\"Original Data Series:\")\n",
        "print(s)\n",
        "print(\"Mean of the said Data Series:\")\n",
        "print(s.mean())\n",
        "print(\"Standard deviation of the said Data Series:\")\n",
        "print(s.std())"
      ],
      "execution_count": 9,
      "outputs": [
        {
          "output_type": "stream",
          "text": [
            "Original Data Series:\n",
            "0        3\n",
            "1        5\n",
            "2        7\n",
            "3       11\n",
            "4       13\n",
            "      ... \n",
            "162    971\n",
            "163    977\n",
            "164    983\n",
            "165    991\n",
            "166    997\n",
            "Length: 167, dtype: int64\n",
            "Mean of the said Data Series:\n",
            "455.8383233532934\n",
            "Standard deviation of the said Data Series:\n",
            "297.0201672063572\n"
          ],
          "name": "stdout"
        }
      ]
    },
    {
      "cell_type": "markdown",
      "metadata": {
        "id": "t1JjO5fK7FOZ",
        "colab_type": "text"
      },
      "source": [
        "# **Write a Pandas program to get the elements of an array values into column-wise.**\n",
        "Sample data: {‘X’:[All odd numbers but not divisable by 7 upto 1000], 'Y':[ All even numbers but not divisable by 5 upto 1000 ],'Z':[ All odd numbers but not divisable by 3 upto 1000]}"
      ]
    },
    {
      "cell_type": "code",
      "metadata": {
        "id": "n-tBCDoE7O9D",
        "colab_type": "code",
        "colab": {
          "base_uri": "https://localhost:8080/",
          "height": 277
        },
        "outputId": "18fb979c-ceff-4fd3-95e1-41c9f6aed704"
      },
      "source": [
        "import pandas as pd\n",
        "l1=([i for i in range(0,1001) if i%7!=0 and i%2!=0])\n",
        "p1=pd.Series(l1)\n",
        "l2=([i for i in range(0,1001) if i%2==0 and i%5!=0])\n",
        "p2=pd.Series(l2)\n",
        "l3=([i for i in range(0,1001) if i%2!=0 and i%3!=0])\n",
        "p3=pd.Series(l3)\n",
        "print(len(l1),len(l2),len(l3))\n",
        "for i in range(len(l3)):\n",
        "  df = pd.DataFrame({'X':p1, 'Y':p2,'Z':p3})\n",
        "print(df)\n"
      ],
      "execution_count": 10,
      "outputs": [
        {
          "output_type": "stream",
          "text": [
            "429 400 333\n",
            "       X     Y     Z\n",
            "0      1   2.0   1.0\n",
            "1      3   4.0   5.0\n",
            "2      5   6.0   7.0\n",
            "3      9   8.0  11.0\n",
            "4     11  12.0  13.0\n",
            "..   ...   ...   ...\n",
            "424  991   NaN   NaN\n",
            "425  993   NaN   NaN\n",
            "426  995   NaN   NaN\n",
            "427  997   NaN   NaN\n",
            "428  999   NaN   NaN\n",
            "\n",
            "[429 rows x 3 columns]\n"
          ],
          "name": "stdout"
        }
      ]
    },
    {
      "cell_type": "markdown",
      "metadata": {
        "id": "FeM0QKj47TwR",
        "colab_type": "text"
      },
      "source": [
        "# **1Write a Pandas program to display the first 10 rows of the DataFrame for any particular three fields.**"
      ]
    },
    {
      "cell_type": "code",
      "metadata": {
        "id": "59n4dg6i7Fup",
        "colab_type": "code",
        "colab": {}
      },
      "source": [
        "import pandas as pd\n",
        "df = pd.read_csv('movie_metadata.csv')\n",
        "result = df.head(10)\n",
        "print(\"First 10 rows of the DataFrame:\")\n",
        "print(result)"
      ],
      "execution_count": null,
      "outputs": []
    },
    {
      "cell_type": "markdown",
      "metadata": {
        "id": "w1mSy-BM7dRX",
        "colab_type": "text"
      },
      "source": [
        "# **Write a Pandas program to get the details of the seventh movie of the DataFrame for any particular three fields #(movie_metadata.csv file).**"
      ]
    },
    {
      "cell_type": "code",
      "metadata": {
        "id": "Bs24uqh17jkv",
        "colab_type": "code",
        "colab": {}
      },
      "source": [
        "import pandas as pd\n",
        "df = pd.read_csv('movies_metadata.csv', error_bad_lines=False)\n",
        "seventh_movie = df.iloc[3]\n",
        "print(\"Details of the seventh movie:\")\n",
        "print(seventh_movie)"
      ],
      "execution_count": null,
      "outputs": []
    },
    {
      "cell_type": "markdown",
      "metadata": {
        "id": "n95SY8Ub762i",
        "colab_type": "text"
      },
      "source": [
        "**Write a Pandas program to sort the DataFrame based on title_year from dataset of movie_metadata.csv for any particular three fields**"
      ]
    },
    {
      "cell_type": "code",
      "metadata": {
        "id": "IlXmFD4g79xD",
        "colab_type": "code",
        "colab": {}
      },
      "source": [
        "import pandas as pd\n",
        "df = pd.read_csv('movies_metadata.csv', error_bad_lines=False)\n",
        "result = df[['title', 'genres']]\n",
        "print(\"Details of title and genres:\")\n",
        "print(result)"
      ],
      "execution_count": null,
      "outputs": []
    },
    {
      "cell_type": "markdown",
      "metadata": {
        "id": "a_7601el8D1M",
        "colab_type": "text"
      },
      "source": [
        "# **Write a Pandas program to sort the DataFrame based on country and language from dataset of movie_metadata.csv**"
      ]
    },
    {
      "cell_type": "code",
      "metadata": {
        "id": "W-KMyPYh8C1a",
        "colab_type": "code",
        "colab": {}
      },
      "source": [
        "import pandas as pd\n",
        "import numpy as np\n",
        "df = pd.read_csv('movie_metadata.csv')\n",
        "print(\"sorted by country\")\n",
        "result = df.sort_values('country')\n",
        "print(result)\n",
        "print(\"sorted by lang\")\n",
        "result = df.sort_values('language')\n",
        "print(result)"
      ],
      "execution_count": null,
      "outputs": []
    },
    {
      "cell_type": "markdown",
      "metadata": {
        "id": "_Pm1eazu8OLT",
        "colab_type": "text"
      },
      "source": [
        "# **Write a Pandas program to find the mean and standard deviation, maximum and minimum of the data of 50 students Python marks stored in a CSV file called Python_mark.csv( you have to create the file yourself like rollno,mark for 50 records)**\n",
        "\n"
      ]
    },
    {
      "cell_type": "code",
      "metadata": {
        "id": "rUxZIJJG8OrO",
        "colab_type": "code",
        "colab": {
          "base_uri": "https://localhost:8080/",
          "height": 1000
        },
        "outputId": "126aa8a6-ae14-477b-94c8-b3e98b0b6a6e"
      },
      "source": [
        "import pandas as pd\n",
        "df = pd.DataFrame({'roll number':[1,2,3,4,5,6,7,8,9,10,11,12,13,14,15,16,17,18,19,20,21,22,23,24,25,26,27,28,29,30,31,32,33,34,35,36,37,38,39,40,41,42,43,44,45,46,47,48,49,50],'marks':[20,22,23,24,25,26,27,12,13,15,23,24,23,21,12,13,14,15,30,24,25,26,27,28,29,30,22,22,22,22,23,23,23,23,23,23,24,24,24,25,26,26,27,27,27,27,27,26,27,23]})\n",
        "print(df.mean())\n",
        "print(df.std())\n",
        "print(df.min())\n",
        "print(df.max())\n",
        "df.to_csv('python_marks',index=False)\n",
        "df1 = pd.read_csv('python_marks')\n",
        "print(df1)\n",
        "print(df1.mean())\n",
        "print(df1.std())\n",
        "print(df1.min())\n",
        "print(df1.max())\n",
        "\n"
      ],
      "execution_count": 14,
      "outputs": [
        {
          "output_type": "stream",
          "text": [
            "roll number    25.50\n",
            "marks          23.14\n",
            "dtype: float64\n",
            "roll number    14.577380\n",
            "marks           4.558061\n",
            "dtype: float64\n",
            "roll number     1\n",
            "marks          12\n",
            "dtype: int64\n",
            "roll number    50\n",
            "marks          30\n",
            "dtype: int64\n",
            "    roll number  marks\n",
            "0             1     20\n",
            "1             2     22\n",
            "2             3     23\n",
            "3             4     24\n",
            "4             5     25\n",
            "5             6     26\n",
            "6             7     27\n",
            "7             8     12\n",
            "8             9     13\n",
            "9            10     15\n",
            "10           11     23\n",
            "11           12     24\n",
            "12           13     23\n",
            "13           14     21\n",
            "14           15     12\n",
            "15           16     13\n",
            "16           17     14\n",
            "17           18     15\n",
            "18           19     30\n",
            "19           20     24\n",
            "20           21     25\n",
            "21           22     26\n",
            "22           23     27\n",
            "23           24     28\n",
            "24           25     29\n",
            "25           26     30\n",
            "26           27     22\n",
            "27           28     22\n",
            "28           29     22\n",
            "29           30     22\n",
            "30           31     23\n",
            "31           32     23\n",
            "32           33     23\n",
            "33           34     23\n",
            "34           35     23\n",
            "35           36     23\n",
            "36           37     24\n",
            "37           38     24\n",
            "38           39     24\n",
            "39           40     25\n",
            "40           41     26\n",
            "41           42     26\n",
            "42           43     27\n",
            "43           44     27\n",
            "44           45     27\n",
            "45           46     27\n",
            "46           47     27\n",
            "47           48     26\n",
            "48           49     27\n",
            "49           50     23\n",
            "roll number    25.50\n",
            "marks          23.14\n",
            "dtype: float64\n",
            "roll number    14.577380\n",
            "marks           4.558061\n",
            "dtype: float64\n",
            "roll number     1\n",
            "marks          12\n",
            "dtype: int64\n",
            "roll number    50\n",
            "marks          30\n",
            "dtype: int64\n"
          ],
          "name": "stdout"
        }
      ]
    },
    {
      "cell_type": "markdown",
      "metadata": {
        "id": "Fo9AJj088bUc",
        "colab_type": "text"
      },
      "source": [
        "# **Write a NumPy program to create a random 4x4 array and extract the 2nd and 3rd rows of the array and store them into a variable.**\n"
      ]
    },
    {
      "cell_type": "code",
      "metadata": {
        "id": "Z0GzVioc8b_U",
        "colab_type": "code",
        "colab": {
          "base_uri": "https://localhost:8080/",
          "height": 139
        },
        "outputId": "c8aec24f-0bba-41a7-cd0c-34873151df04"
      },
      "source": [
        "import numpy as np\n",
        "x = np.random.random((4,4))\n",
        "print(x)\n",
        "print(\"2nd and 3rd rows of the above array:\")\n",
        "y= x[1:3, :]\n",
        "print(y)"
      ],
      "execution_count": 18,
      "outputs": [
        {
          "output_type": "stream",
          "text": [
            "[[0.70286176 0.88981431 0.47011984 0.07376072]\n",
            " [0.61932372 0.340894   0.57680736 0.90426086]\n",
            " [0.20602414 0.39538621 0.04736668 0.32023874]\n",
            " [0.41910304 0.4544466  0.65790295 0.0940684 ]]\n",
            "2nd and 3rd rows of the above array:\n",
            "[[0.61932372 0.340894   0.57680736 0.90426086]\n",
            " [0.20602414 0.39538621 0.04736668 0.32023874]]\n"
          ],
          "name": "stdout"
        }
      ]
    },
    {
      "cell_type": "markdown",
      "metadata": {
        "id": "WEt3qD6g8l68",
        "colab_type": "text"
      },
      "source": [
        "# **Write a NumPy program to create a 10x10 array with random values and find the minimum and maximum values.**"
      ]
    },
    {
      "cell_type": "code",
      "metadata": {
        "id": "XTrlNN2Q8qK-",
        "colab_type": "code",
        "colab": {
          "base_uri": "https://localhost:8080/",
          "height": 416
        },
        "outputId": "c1703a99-69b0-458f-dcc6-c873bd031d40"
      },
      "source": [
        "import numpy as np\n",
        "x = np.random.random((10,10))\n",
        "print(\"Original Array:\")\n",
        "print(x) \n",
        "xmin, xmax = x.min(), x.max()\n",
        "print(\"Minimum and Maximum Values:\")\n",
        "print(xmin, xmax)"
      ],
      "execution_count": 17,
      "outputs": [
        {
          "output_type": "stream",
          "text": [
            "Original Array:\n",
            "[[0.65866352 0.41308787 0.13603836 0.61184175 0.52860908 0.15804645\n",
            "  0.41721776 0.5749968  0.39571682 0.24856936]\n",
            " [0.34980405 0.79754028 0.86524026 0.3619062  0.37763875 0.16928801\n",
            "  0.91150629 0.46445289 0.43305842 0.80866886]\n",
            " [0.1745719  0.80537973 0.23890352 0.25873505 0.94235834 0.85175327\n",
            "  0.35696216 0.93869754 0.74085562 0.15340534]\n",
            " [0.15109166 0.57442854 0.17388898 0.55214303 0.05117881 0.1359865\n",
            "  0.46885115 0.22373856 0.55368606 0.45970821]\n",
            " [0.13928969 0.67948888 0.17426895 0.11216936 0.6857622  0.47063123\n",
            "  0.16997799 0.85308104 0.06835746 0.86017621]\n",
            " [0.51070582 0.04558765 0.00965374 0.38840155 0.37718168 0.13023999\n",
            "  0.11871491 0.91631125 0.85947222 0.13943058]\n",
            " [0.82639988 0.95821703 0.52572935 0.96151851 0.35687774 0.34276399\n",
            "  0.55334746 0.16789827 0.57875265 0.63491108]\n",
            " [0.39372223 0.57858867 0.9546167  0.06188617 0.26704766 0.72147803\n",
            "  0.19679039 0.15786231 0.45197986 0.67111989]\n",
            " [0.33629119 0.85414124 0.09378185 0.77526873 0.23347705 0.99518971\n",
            "  0.2357098  0.13837439 0.27260483 0.18038671]\n",
            " [0.7199438  0.31647083 0.31961758 0.08727439 0.22909171 0.78538325\n",
            "  0.67532308 0.93310003 0.01002363 0.463145  ]]\n",
            "Minimum and Maximum Values:\n",
            "0.009653744561047839 0.9951897120926126\n"
          ],
          "name": "stdout"
        }
      ]
    },
    {
      "cell_type": "markdown",
      "metadata": {
        "id": "EVyU25W28vzn",
        "colab_type": "text"
      },
      "source": [
        "# **.Write a NumPy program to generate 8 random integers between 100 and 300**\n"
      ]
    },
    {
      "cell_type": "code",
      "metadata": {
        "id": "zFBzpVAL8yWV",
        "colab_type": "code",
        "colab": {
          "base_uri": "https://localhost:8080/",
          "height": 35
        },
        "outputId": "36c4be12-a61c-47cc-ea95-9d3205ad9848"
      },
      "source": [
        "import numpy as np\n",
        "x = np.random.randint(low=100, high=300, size=8)\n",
        "print(x)"
      ],
      "execution_count": 16,
      "outputs": [
        {
          "output_type": "stream",
          "text": [
            "[189 288 260 236 158 186 120 284]\n"
          ],
          "name": "stdout"
        }
      ]
    },
    {
      "cell_type": "markdown",
      "metadata": {
        "id": "2xhzcL0581i4",
        "colab_type": "text"
      },
      "source": [
        "# **Write a NumPy program to create a random integer nos of size 20 and sort it.**"
      ]
    },
    {
      "cell_type": "code",
      "metadata": {
        "id": "o7Iab4bV86cI",
        "colab_type": "code",
        "colab": {
          "base_uri": "https://localhost:8080/",
          "height": 52
        },
        "outputId": "6a998c6b-c7a3-4226-c69f-0104be277ab6"
      },
      "source": [
        "import numpy as np\n",
        "x=np.arange(20)\n",
        "np.random.shuffle(x)\n",
        "print(x)\n",
        "x.sort()\n",
        "print(x)"
      ],
      "execution_count": 15,
      "outputs": [
        {
          "output_type": "stream",
          "text": [
            "[13 11  0  1 12 10  9  6 18  5 15  8  3 17 19  2 14 16  7  4]\n",
            "[ 0  1  2  3  4  5  6  7  8  9 10 11 12 13 14 15 16 17 18 19]\n"
          ],
          "name": "stdout"
        }
      ]
    }
  ]
}